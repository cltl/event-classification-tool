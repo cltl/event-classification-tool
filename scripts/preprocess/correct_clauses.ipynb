{
 "cells": [
  {
   "cell_type": "code",
   "execution_count": 52,
   "metadata": {},
   "outputs": [],
   "source": [
    "from pydantic import BaseModel, Field, field_validator\n",
    "from typing import List\n",
    "import polars as pl\n",
    "import instructor\n",
    "import llama_cpp\n",
    "import string\n",
    "import json\n",
    "import re"
   ]
  },
  {
   "cell_type": "markdown",
   "metadata": {},
   "source": [
    "Load model, paragraph and sentence dataframe"
   ]
  },
  {
   "cell_type": "code",
   "execution_count": 53,
   "metadata": {},
   "outputs": [],
   "source": [
    "modelfile = \"../../llms/Meta-Llama-3-8B-Instruct.Q4_K_M.gguf\"\n",
    "llama = llama_cpp.Llama(\n",
    "        model_path=modelfile,\n",
    "        n_gpu_layers=-1,\n",
    "        chat_format=\"llama-3\", \n",
    "        n_ctx=2048,\n",
    "        logits_all=True,\n",
    "        verbose=False,\n",
    "        echo = False,\n",
    "        temperature=0\n",
    "    )  \n",
    "\n",
    "create = instructor.patch(\n",
    "        create=llama.create_chat_completion_openai_v1,\n",
    "        mode=instructor.Mode.JSON_SCHEMA,\n",
    "    )"
   ]
  },
  {
   "cell_type": "code",
   "execution_count": 54,
   "metadata": {},
   "outputs": [],
   "source": [
    "pars_df = pl.read_csv(\"../../outputs/max_havelaar/max_havelaar_paragraphs.tsv\", separator=\"\\t\")\n",
    "sents_df = pl.read_csv(\"../../outputs/max_havelaar/max_havelaar_sentences.tsv\", separator=\"\\t\")"
   ]
  },
  {
   "cell_type": "markdown",
   "metadata": {},
   "source": [
    "Define function to split into clauses"
   ]
  },
  {
   "cell_type": "code",
   "execution_count": 55,
   "metadata": {},
   "outputs": [],
   "source": [
    "prompt = \"Geef me je professionele hulp met deze zin, het is noodzakelijk dat je niet antwoordt met iets meer of minder dan de bijzinnen en dat je geen enkel teken van de invoer verliest (do not split in words):\"\n",
    "classdescription = \"\"\"Een lijst van alle grammaticale bijzinnen in de invoerzin, zonder wijziging of verlies van leestekens en woorden van die zin. Bijzinnen moeten precies zo worden weergegeven als ze in de zin staan.\"\"\"\n",
    "\n",
    "class ClauseList(BaseModel):\n",
    "    clauselist:List[str] = Field(\n",
    "        description=classdescription\n",
    "    )\n",
    "    @field_validator('clauselist')\n",
    "    def replace_empty_list(cls, v):\n",
    "        if not v:\n",
    "            return [\"ERROR IN SENTENCE SPLITTING OUTPUT\"]\n",
    "        return v\n",
    "\n",
    "def clausify_sent(sentence):\n",
    "    extraction = create(\n",
    "        response_model=ClauseList,\n",
    "            messages=[\n",
    "            {\n",
    "            \"role\": \"system\",\n",
    "            \"content\": f\"{prompt}\",\n",
    "            },\n",
    "            {\n",
    "            \"role\": \"user\",\n",
    "            \"content\": f\"{prompt} {sentence}\",\n",
    "            }\n",
    "            ]\n",
    "        )\n",
    "\n",
    "    clause_list =  extraction.model_dump()[\"clauselist\"]\n",
    "    return clause_list"
   ]
  },
  {
   "cell_type": "code",
   "execution_count": 56,
   "metadata": {},
   "outputs": [],
   "source": [
    "def save_clauses(clauselist,sentence_id,chapter_id,paragraph_id,sentence,outfilename):\n",
    "    clauses_dict = {index: clause for index, clause in enumerate(clauselist)}\n",
    "    outdict = {\n",
    "                \"CHAPTER_ID\":chapter_id,\n",
    "                \"SENTENCE_ID\":sentence_id,\n",
    "                \"PARAGRAPH_ID\":paragraph_id,\n",
    "                \"SENTENCETEXT\":sentence,\n",
    "                \"CLAUSES\":clauses_dict\n",
    "                }\n",
    "    with open(outfilename, \"w\") as output_file:\n",
    "        json.dump(outdict, output_file)"
   ]
  },
  {
   "cell_type": "code",
   "execution_count": 57,
   "metadata": {},
   "outputs": [],
   "source": [
    "def validate_clauses_match_sentence(clauselist, sentence):\n",
    "\n",
    "    # Remove all white spaces from the sentence and concatenated clauses\n",
    "    sentence_no_space_punct = ''.join(c for c in sentence if c not in string.whitespace + string.punctuation)\n",
    "    joined_clauses_no_space_punct = ''.join(c for c in ''.join(clauselist) if c not in string.whitespace + string.punctuation)\n",
    "\n",
    "    if sentence_no_space_punct != joined_clauses_no_space_punct:\n",
    "        return [\"ERROR IN THE LLM OUTPUT\"]\n",
    "    return clauselist"
   ]
  },
  {
   "cell_type": "markdown",
   "metadata": {},
   "source": [
    "Find clauses in a given sentence"
   ]
  },
  {
   "cell_type": "code",
   "execution_count": 59,
   "metadata": {},
   "outputs": [],
   "source": [
    "id_to_split = 5 #id of the sentence to process\n",
    "matching_sents = sents_df.filter(pl.col(\"sentence_id\") == id_to_split)\n",
    "sentence = matching_sents[\"sentences\"].to_list()[0]"
   ]
  },
  {
   "cell_type": "code",
   "execution_count": 39,
   "metadata": {},
   "outputs": [
    {
     "name": "stdout",
     "output_type": "stream",
     "text": [
      "Het is myn gewoonte niet, romans te schryven, of zulke dingen, en het heeft dan ook lang geduurd, voor ik er toe overging een paar riem papier extra te bestellen, en het werk aantevangen, dat gy, lieve lezer, zoo-even in de hand hebt genomen, en dat ge lezen moet als ge makelaar in koffi zyt, of als ge wat anders zyt.\n",
      "['Het is mijn gewoonte niet, romans te schryven, of zulke dingen,', 'en het heeft dan ook lang geduurd, voor ik er toe overging een paar riem papier extra te bestellen,', 'en het werk aantevangen,', 'dat gy, lieve lezer, zoo-even in de hand hebt genomen,', 'en dat ge lezen moet als ge makelaar in koffi zyt,', 'of als ge wat anders zyt.']\n"
     ]
    }
   ],
   "source": [
    "if \"«\" in sentence:\n",
    "    sentence = re.sub(\"«\",\"\\\"\",sentence)\n",
    "if \"»\" in sentence:\n",
    "    sentence = re.sub(\"»\",\"\\\"\",sentence)\n",
    "print(sentence)\n",
    "clauselist = clausify_sent(sentence)\n",
    "print(clauselist)"
   ]
  },
  {
   "cell_type": "code",
   "execution_count": 60,
   "metadata": {},
   "outputs": [
    {
     "name": "stdout",
     "output_type": "stream",
     "text": [
      "['Als ik in myn vak - ik ben makelaar in koffi, en woon op de Lauriergracht N 37 - aan een principaal - een principaal is iemand die koffi verkoopt - een opgave deed, waarin maar een klein gedeelte der onwaarheden voorkwam, die in gedichten en romans de hoofdzaak uitmaken, zou hy terstond Busselinck & Waterman nemen.']\n"
     ]
    }
   ],
   "source": [
    "after_validation = validate_clauses_match_sentence(clauselist, sentence)\n",
    "print(after_validation)"
   ]
  },
  {
   "cell_type": "code",
   "execution_count": 61,
   "metadata": {},
   "outputs": [
    {
     "name": "stdout",
     "output_type": "stream",
     "text": [
      "Saved!\n"
     ]
    }
   ],
   "source": [
    "if after_validation == clauselist:\n",
    "    outfilename = f\"../../outputs/max_havelaar/clauses/Sentence{id_to_split}.json\"\n",
    "    parid = matching_sents[\"paragraph_id\"].to_list()[0]\n",
    "    chid = matching_sents[\"chapter_id\"].to_list()[0]\n",
    "    save_clauses(clauselist,id_to_split,chid,parid,sentence,outfilename)\n",
    "    print(\"Saved!\")"
   ]
  },
  {
   "cell_type": "markdown",
   "metadata": {},
   "source": [
    "Define functions to correct clauses  \n",
    "e.g., if punctuation has been lost, decide if it's ok for your use case  \n",
    "or you want to reintroduce it"
   ]
  },
  {
   "cell_type": "code",
   "execution_count": 12,
   "metadata": {},
   "outputs": [],
   "source": [
    "def apply_correction(clauselist,sentence):\n",
    "    corrected = []\n",
    "    return corrected"
   ]
  },
  {
   "cell_type": "code",
   "execution_count": null,
   "metadata": {},
   "outputs": [],
   "source": [
    "if not after_validation == clauselist:\n",
    "    new_clauselist = apply_correction(clauselist,sentence)\n",
    "    print(new_clauselist)\n",
    "    #for x in new_clauselist:\n",
    "    #    print(x)\n",
    "    after_validation = validate_clauses_match_sentence(new_clauselist, sentence)\n",
    "    print(after_validation)"
   ]
  },
  {
   "cell_type": "code",
   "execution_count": null,
   "metadata": {},
   "outputs": [],
   "source": [
    "# Decide if you want to save\n",
    "outfilename = f\"../../outputs/max_havelaar/clauses/Sentence{id_to_split}.json\"\n",
    "print(outfilename)\n",
    "parid = matching_sents[\"paragraph_id\"].to_list()[0]\n",
    "chid = matching_sents[\"chapter_id\"].to_list()[0]\n",
    "save_clauses(after_validation,id_to_split,parid,sentence,outfilename)"
   ]
  },
  {
   "cell_type": "markdown",
   "metadata": {},
   "source": [
    "Once all clauses have been found, do a final check running\n",
    "#$python3 scripts/preprocess/preprocess_book.py --clauses --retry"
   ]
  }
 ],
 "metadata": {
  "kernelspec": {
   "display_name": "eventtool-venv",
   "language": "python",
   "name": "python3"
  },
  "language_info": {
   "codemirror_mode": {
    "name": "ipython",
    "version": 3
   },
   "file_extension": ".py",
   "mimetype": "text/x-python",
   "name": "python",
   "nbconvert_exporter": "python",
   "pygments_lexer": "ipython3",
   "version": "3.11.5"
  }
 },
 "nbformat": 4,
 "nbformat_minor": 2
}
